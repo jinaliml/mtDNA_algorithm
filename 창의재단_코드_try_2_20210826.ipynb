{
  "nbformat": 4,
  "nbformat_minor": 0,
  "metadata": {
    "colab": {
      "name": "창의재단 코드_try.2_20210826",
      "provenance": [],
      "collapsed_sections": [],
      "include_colab_link": true
    },
    "kernelspec": {
      "name": "python3",
      "display_name": "Python 3"
    },
    "language_info": {
      "name": "python"
    }
  },
  "cells": [
    {
      "cell_type": "markdown",
      "metadata": {
        "id": "view-in-github",
        "colab_type": "text"
      },
      "source": [
        "<a href=\"https://colab.research.google.com/github/jinaliml/mtDNA_algorithm/blob/main/%EC%B0%BD%EC%9D%98%EC%9E%AC%EB%8B%A8_%EC%BD%94%EB%93%9C_try_2_20210826.ipynb\" target=\"_parent\"><img src=\"https://colab.research.google.com/assets/colab-badge.svg\" alt=\"Open In Colab\"/></a>"
      ]
    },
    {
      "cell_type": "code",
      "metadata": {
        "id": "BpU3rUrNDMBH"
      },
      "source": [
        "import random"
      ],
      "execution_count": null,
      "outputs": []
    },
    {
      "cell_type": "code",
      "metadata": {
        "id": "TcXk0t-SuA9d",
        "colab": {
          "base_uri": "https://localhost:8080/",
          "height": 136
        },
        "outputId": "269c2c80-ae54-4385-aa1d-d38fc507b5d4"
      },
      "source": [
        "n_ge=int(input())\n",
        "n_start=int(input())\n",
        "past_w_gen=[[]]\n",
        "past_m_gen=[[[]]]\n",
        "next_w_gen=[[[]]]\n",
        "next_m_gen=[[[]]]\n",
        "paternal_rate=int(input())"
      ],
      "execution_count": null,
      "outputs": [
        {
          "output_type": "error",
          "ename": "SyntaxError",
          "evalue": "ignored",
          "traceback": [
            "\u001b[0;36m  File \u001b[0;32m\"<ipython-input-5-5bfe43f648bd>\"\u001b[0;36m, line \u001b[0;32m3\u001b[0m\n\u001b[0;31m    global past_w_gen=[[]]\u001b[0m\n\u001b[0m                     ^\u001b[0m\n\u001b[0;31mSyntaxError\u001b[0m\u001b[0;31m:\u001b[0m invalid syntax\n"
          ]
        }
      ]
    },
    {
      "cell_type": "code",
      "metadata": {
        "id": "1mkrCAn_kK3i"
      },
      "source": [
        "start_dna= "
      ],
      "execution_count": null,
      "outputs": []
    },
    {
      "cell_type": "code",
      "metadata": {
        "id": "0CqEA2l2HD2O"
      },
      "source": [
        "#다음 세대로 넘어가기 \n",
        "def gen_change(past_w_gen, past_m_gen, next_w_gen, next_m_gen):\n",
        "  global past_w_gen\n",
        "  global past_m_gen\n",
        "  global new_w_gen\n",
        "  global new_m_gen\n",
        "\n",
        "  past_w_gen=next_w_gen\n",
        "  past_m_gen=next_m_gen\n",
        "  next_w_gen=[[[]]]\n",
        "  next_m_gen=[[[]]]"
      ],
      "execution_count": null,
      "outputs": []
    },
    {
      "cell_type": "code",
      "metadata": {
        "id": "-5bgoxzyNQTm"
      },
      "source": [
        "#모계유전만 고려\n",
        "def maternal(past_w_gen):\n",
        "  global past_w_gen\n",
        "  global past_m_gen\n",
        "  global new_w_gen\n",
        "  global new_m_gen\n",
        "  for x in past_w_gen:\n",
        "    num_girl=random.choice([0,1,1,2])\n",
        "    num_boy=random.choice([0,1,1,2])\n",
        "    for i in range(num_girl):\n",
        "      next_w_gen+=x\n",
        "    for j in range(num_boy):\n",
        "      next_m_gen+=x"
      ],
      "execution_count": null,
      "outputs": []
    },
    {
      "cell_type": "code",
      "metadata": {
        "id": "b71z6Un-WGgU"
      },
      "source": [
        "#mtDNA 초기 DATASET 만들기\n",
        "def starting(start_dna, past_w_gen):\n",
        "  for x in range(n_start):\n",
        "    tmp_dna_personal=[[]]\n",
        "    for y in range(1000):\n",
        "      tmp_dna=[]\n",
        "      for y in start_dna:\n",
        "        seeed=random.randint(1,76923077)\n",
        "        tmpc=y\n",
        "        if seeed==1:\n",
        "          tmpc=random.choice(['A','T','G','C'])\n",
        "        tmp_dna+=tmpc\n",
        "      tmp_dna_personal+=tmp_dna\n",
        "     past_w_gen+=tmp_dna_personal   "
      ],
      "execution_count": null,
      "outputs": []
    },
    {
      "cell_type": "code",
      "metadata": {
        "id": "lRoV8DZuWNKB"
      },
      "source": [
        "#mtDNA 다양성 수치화"
      ],
      "execution_count": null,
      "outputs": []
    },
    {
      "cell_type": "code",
      "metadata": {
        "id": "w6QzoLsuNQ6L",
        "colab": {
          "base_uri": "https://localhost:8080/",
          "height": 134
        },
        "outputId": "a78d938b-aa32-486a-c2e9-bfc8342f1e1b"
      },
      "source": [
        "#DNA mutation 확률 만들기: 난수 생성후 일정 범위 안에 들어올 때만 돌연변이가 발생한다고 해서 풀기\n",
        "def mut(past_w_gen):\n",
        "\n",
        "      "
      ],
      "execution_count": 1,
      "outputs": [
        {
          "output_type": "error",
          "ename": "SyntaxError",
          "evalue": "ignored",
          "traceback": [
            "\u001b[0;36m  File \u001b[0;32m\"<ipython-input-1-1b69bc0710b2>\"\u001b[0;36m, line \u001b[0;32m6\u001b[0m\n\u001b[0;31m    for y in past\u001b[0m\n\u001b[0m                 ^\u001b[0m\n\u001b[0;31mSyntaxError\u001b[0m\u001b[0;31m:\u001b[0m invalid syntax\n"
          ]
        }
      ]
    },
    {
      "cell_type": "code",
      "metadata": {
        "id": "_bMlKtV2R3Tv"
      },
      "source": [
        "#남녀 매칭\n",
        "def match(past_w_gen,past_m_gen):\n",
        "  random.shuffle(past_m_gen)\n",
        "  random.shuffle(past_w_gen)"
      ],
      "execution_count": null,
      "outputs": []
    },
    {
      "cell_type": "code",
      "metadata": {
        "id": "y6vFmV_mQY2R"
      },
      "source": [
        "#부계 유전 고려--1:1000으로 해볼까\n",
        "def paternal(past_w_gen, past_m_gen):\n",
        "  global past_w_gen\n",
        "  global past_m_gen\n",
        "  global new_w_gen\n",
        "  global new_m_gen\n",
        "  for n in range(min(len(past_w_gen),len(past_m_gen))):\n",
        "    num_girl=random.choice([0,1,1,2])\n",
        "    num_boy=random.choice([0,1,1,2])\n",
        "    for i in range(num_girl):\n",
        "      tmp1=random.sample(past_w_gen[x],1000-paternal_rate)+random.sample(past_m_gen[x],parternal_rate)\n",
        "      next_w_gen+=tmp1\n",
        "    for j in range(num_boy):\n",
        "      tmp2=random.sample(past_w_gen[x],1000-paternal_rate)+random.sample(past_m_gen[x],parternal_rate)\n",
        "      next_m_gen+=tmp2\n",
        "     "
      ],
      "execution_count": null,
      "outputs": []
    },
    {
      "cell_type": "code",
      "metadata": {
        "id": "5xE4u5GmQ4B7"
      },
      "source": [
        "#미토콘드리아 별 복제 속도 차이\n",
        "def mtchoose():\n",
        "  "
      ],
      "execution_count": null,
      "outputs": []
    }
  ]
}