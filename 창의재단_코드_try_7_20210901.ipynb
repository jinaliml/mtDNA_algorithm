{
  "nbformat": 4,
  "nbformat_minor": 0,
  "metadata": {
    "colab": {
      "name": "창의재단 코드_try.7_20210901",
      "provenance": [],
      "collapsed_sections": [],
      "include_colab_link": true
    },
    "kernelspec": {
      "name": "python3",
      "display_name": "Python 3"
    },
    "language_info": {
      "name": "python"
    }
  },
  "cells": [
    {
      "cell_type": "markdown",
      "metadata": {
        "id": "view-in-github",
        "colab_type": "text"
      },
      "source": [
        "<a href=\"https://colab.research.google.com/github/jinaliml/mtDNA_algorithm/blob/main/%EC%B0%BD%EC%9D%98%EC%9E%AC%EB%8B%A8_%EC%BD%94%EB%93%9C_try_7_20210901.ipynb\" target=\"_parent\"><img src=\"https://colab.research.google.com/assets/colab-badge.svg\" alt=\"Open In Colab\"/></a>"
      ]
    },
    {
      "cell_type": "code",
      "metadata": {
        "id": "i0hKY_w0JZtj"
      },
      "source": [
        "import time\n",
        "import random"
      ],
      "execution_count": null,
      "outputs": []
    },
    {
      "cell_type": "code",
      "metadata": {
        "colab": {
          "base_uri": "https://localhost:8080/"
        },
        "id": "BhRmnlA6IGuA",
        "outputId": "be2e616d-e320-431e-a283-8274a62a3d6e"
      },
      "source": [
        "!pip install tqdm\n",
        "from tqdm import tqdm"
      ],
      "execution_count": null,
      "outputs": [
        {
          "output_type": "stream",
          "name": "stdout",
          "text": [
            "Requirement already satisfied: tqdm in /usr/local/lib/python3.7/dist-packages (4.62.0)\n"
          ]
        }
      ]
    },
    {
      "cell_type": "code",
      "metadata": {
        "id": "ueeERZmHH8KC",
        "colab": {
          "base_uri": "https://localhost:8080/"
        },
        "outputId": "26614396-c946-43cd-dcd1-5583cbae8200"
      },
      "source": [
        "!pip install fastrand\n",
        "import fastrand"
      ],
      "execution_count": null,
      "outputs": [
        {
          "output_type": "stream",
          "name": "stdout",
          "text": [
            "Collecting fastrand\n",
            "  Downloading fastrand-1.3.0.tar.gz (3.3 kB)\n",
            "Building wheels for collected packages: fastrand\n",
            "  Building wheel for fastrand (setup.py) ... \u001b[?25l\u001b[?25hdone\n",
            "  Created wheel for fastrand: filename=fastrand-1.3.0-cp37-cp37m-linux_x86_64.whl size=16551 sha256=09c510c411838026075729e3a657c693033684e96eafce6e27ca52512775ad8b\n",
            "  Stored in directory: /root/.cache/pip/wheels/7d/73/56/57c2f1af2a5e2ecdb6234b732e898a4e26707cc2a2008dc308\n",
            "Successfully built fastrand\n",
            "Installing collected packages: fastrand\n",
            "Successfully installed fastrand-1.3.0\n"
          ]
        }
      ]
    },
    {
      "cell_type": "code",
      "metadata": {
        "id": "TcXk0t-SuA9d",
        "colab": {
          "base_uri": "https://localhost:8080/"
        },
        "outputId": "84c3ccfb-bad4-4e8c-ed73-03b3ce4998a7"
      },
      "source": [
        "n_ge=int(input())#총 관찰한 세대 수 입력\n",
        "n_start=int(input())#시작 세대 인구 수 입력\n",
        "paternal_rate=(input())#부계 유전 비율 입력"
      ],
      "execution_count": null,
      "outputs": [
        {
          "name": "stdout",
          "output_type": "stream",
          "text": [
            "2\n",
            "10\n",
            "2\n"
          ]
        }
      ]
    },
    {
      "cell_type": "code",
      "metadata": {
        "id": "vUocRp8-V8j9"
      },
      "source": [
        "#초기화\n",
        "past_w_gen=[]\n",
        "past_m_gen=[]\n",
        "next_w_gen=[]\n",
        "next_m_gen=[]"
      ],
      "execution_count": null,
      "outputs": []
    },
    {
      "cell_type": "code",
      "metadata": {
        "id": "1mkrCAn_kK3i"
      },
      "source": [
        "#start_dna (원시 mtdna) 생성\n",
        "start_dna= [random.choice(['A','T','G','C']) for i in range(16569)]#start_dna는 원시 mtDNA 자료를 찾게 되면 입력해서 사용할 예정 그 전까지는 랜덤하게 생성해서 사용"
      ],
      "execution_count": null,
      "outputs": []
    },
    {
      "cell_type": "code",
      "metadata": {
        "id": "tRy04NzwKFRD"
      },
      "source": [
        "#mtDNA 초기 DATASET 만들기\n",
        "def starting(past_w_gen):\n",
        "  for x in tqdm(range(n_start)):\n",
        "    tmp_dna_personal=[]\n",
        "    for y in range(1000):\n",
        "      tmp_dna=[random.choice(['A','T','G','C']) if fastrand.pcg32bounded(76923077)==1 else z for z in start_dna]#DNA 돌연변이 발생율을 참고하여 해당 확률로 start_dna에 바뀌는 염기가 생기도록 조절했다. \n",
        "      tmp_dna_personal.append(tmp_dna)#돌연변이를 적용한 mtDNA를 각 개인의 dna set에 담는다.\n",
        "    past_w_gen.append(tmp_dna_personal)#1000개의 mtDNA sequence가 포함된 tmp_dna_personal을 전체 dats set 인 past_w_gen 에 추가한다.(past_m_gen도 같은 방법으로 생성)"
      ],
      "execution_count": null,
      "outputs": []
    },
    {
      "cell_type": "code",
      "metadata": {
        "colab": {
          "base_uri": "https://localhost:8080/"
        },
        "id": "d7fcHFyuQxVl",
        "outputId": "de0f8f7a-ddcb-48c9-e7ec-c23af7fd52eb"
      },
      "source": [
        "starting(past_w_gen)#mtDNA 초기 DATASET 만들기\n",
        "len(past_w_gen)#코드 맞는지 확인용"
      ],
      "execution_count": null,
      "outputs": [
        {
          "output_type": "stream",
          "name": "stderr",
          "text": [
            "100%|██████████| 10/10 [00:31<00:00,  3.10s/it]\n"
          ]
        },
        {
          "output_type": "execute_result",
          "data": {
            "text/plain": [
              "10"
            ]
          },
          "metadata": {},
          "execution_count": 18
        }
      ]
    },
    {
      "cell_type": "code",
      "metadata": {
        "id": "0CqEA2l2HD2O"
      },
      "source": [
        "#다음 세대로 넘어가기\n",
        "#매번 새로운 세대를 만들기만하고 지난 세대를 지우지 않으면 램 저장공간이 부족해지기 때문에 유전적 다양성을 계산하여 출력한 후에 지난 데이터를 날리고 새로운 세대를 만들어야 함.\n",
        "def gen_change(past_w_gen,past_m_gen,new_w_gen,new_m_gen ):\n",
        "  past_w_gen=next_w_gen\n",
        "  past_m_gen=next_m_gen\n",
        "  next_w_gen=[]\n",
        "  next_m_gen=[]"
      ],
      "execution_count": null,
      "outputs": []
    },
    {
      "cell_type": "code",
      "metadata": {
        "id": "-5bgoxzyNQTm"
      },
      "source": [
        "#모계유전만 고려\n",
        "#엄마 mtDNA set를 그대로 물려받는다.\n",
        "def maternal(past_w_gen, next_w_gen, next_m_gen):\n",
        "  for x in past_w_gen:#past_w_gen의 각 사람에 대해서\n",
        "\n",
        "    num_girl=random.choice([0,1,1,2])#여아 수\n",
        "    num_boy=random.choice([0,1,1,2])#남아 수\n",
        "    for i in range(num_girl):#여아 수만큼\n",
        "      next_w_gen.append(x) #다음 세대 여자 dataset에 엄마 mtDNA set을 넣어준다.\n",
        "    for j in range(num_boy):#남아 수만큼\n",
        "      next_m_gen.append(x) #다음 세대 여자 dataset에 엄마 mtDNA set을 넣어준다."
      ],
      "execution_count": null,
      "outputs": []
    },
    {
      "cell_type": "code",
      "metadata": {
        "id": "y6vFmV_mQY2R"
      },
      "source": [
        "#부계 유전 고려\n",
        "#미완성, 추후 수정 예정\n",
        "def paternal(past_w_gen, past_m_gen, next_w_gen, next_m_gen):\n",
        "  for n in range(min(len(past_w_gen),len(past_m_gen))):\n",
        "    num_girl=random.choice([0,1,1,2])\n",
        "    num_boy=random.choice([0,1,1,2])\n",
        "    for i in range(num_girl):\n",
        "      tmp1=random.sample(past_w_gen[x],1000-paternal_rate)+random.sample(past_m_gen[x],parternal_rate)\n",
        "      next_w_gen.append(tmp1)\n",
        "    for j in range(num_boy):\n",
        "      tmp2=random.sample(past_w_gen[x],1000-paternal_rate)+random.sample(past_m_gen[x],parternal_rate)\n",
        "      next_m_gen.append(tmp2)     "
      ],
      "execution_count": null,
      "outputs": []
    },
    {
      "cell_type": "code",
      "metadata": {
        "id": "_bMlKtV2R3Tv"
      },
      "source": [
        "#남녀 매칭\n",
        "#남녀 짝에 따라 next_m_gen, next_w_gen에 차례대로 담기기 때문에 단순히 순서에 따라 남녀를 매칭시키게 되면 \n",
        "#유전적 연관관계가 높은 사람들끼리 자손을 낳게 되고,이는 유전적 다양성을 줄이므로 섞어주는 작용이 필요하다.   \n",
        "def match(past_m_gen):\n",
        "  past_m_gen=random.shuffle(past_m_gen)"
      ],
      "execution_count": null,
      "outputs": []
    },
    {
      "cell_type": "code",
      "metadata": {
        "id": "lRoV8DZuWNKB"
      },
      "source": [
        "#mtDNA 다양성 수치화\n",
        "#추후 추가 예정\n",
        "def dna_diversity(past_w_gen, past_m_gen)"
      ],
      "execution_count": null,
      "outputs": []
    },
    {
      "cell_type": "code",
      "metadata": {
        "id": "Esp0hPBcJySw"
      },
      "source": [
        "#DNA mutation 확률 만들기: 난수 생성후 일정 범위 안에 들어올 때만 돌연변이가 발생한다고 해서 풀기\n",
        "#추후 추가 예정\n",
        "def mut(past_w_gen, past_m_gen):"
      ],
      "execution_count": null,
      "outputs": []
    },
    {
      "cell_type": "code",
      "metadata": {
        "id": "dFg2ByVMaNwZ"
      },
      "source": [
        "#함수 실행 순서-모계 유전만 고려\n",
        "starting(past_w_gen)\n",
        "starting(past_m_gen)\n",
        "for x in range(n_ge):\n",
        "  mut(past_w_gen, past_m_gen)\n",
        "  match(past_m_gen)\n",
        "  maternal(past_w_gen, next_w_gen, next_m_gen)\n",
        "  print(dna_diversity(past_w_gen, past_m_gen))\n",
        "  gen_change(past_w_gen,past_m_gen,new_w_gen,new_m_gen)\n",
        "  \n",
        "\n"
      ],
      "execution_count": null,
      "outputs": []
    }
  ]
}