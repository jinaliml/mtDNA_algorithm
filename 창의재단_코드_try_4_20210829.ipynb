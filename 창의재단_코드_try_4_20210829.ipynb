{
  "nbformat": 4,
  "nbformat_minor": 0,
  "metadata": {
    "colab": {
      "name": "창의재단 코드_try.4_20210829",
      "provenance": [],
      "collapsed_sections": [],
      "include_colab_link": true
    },
    "kernelspec": {
      "name": "python3",
      "display_name": "Python 3"
    },
    "language_info": {
      "name": "python"
    }
  },
  "cells": [
    {
      "cell_type": "markdown",
      "metadata": {
        "id": "view-in-github",
        "colab_type": "text"
      },
      "source": [
        "<a href=\"https://colab.research.google.com/github/jinaliml/mtDNA_algorithm/blob/main/%EC%B0%BD%EC%9D%98%EC%9E%AC%EB%8B%A8_%EC%BD%94%EB%93%9C_try_4_20210829.ipynb\" target=\"_parent\"><img src=\"https://colab.research.google.com/assets/colab-badge.svg\" alt=\"Open In Colab\"/></a>"
      ]
    },
    {
      "cell_type": "code",
      "metadata": {
        "colab": {
          "base_uri": "https://localhost:8080/"
        },
        "id": "pFsijxaXH6gb",
        "outputId": "ea71a5ed-77ad-4cc0-ed10-0d1fbe5190be"
      },
      "source": [
        "!pip install fastrand"
      ],
      "execution_count": 1,
      "outputs": [
        {
          "output_type": "stream",
          "text": [
            "Collecting fastrand\n",
            "  Downloading fastrand-1.3.0.tar.gz (3.3 kB)\n",
            "Building wheels for collected packages: fastrand\n",
            "  Building wheel for fastrand (setup.py) ... \u001b[?25l\u001b[?25hdone\n",
            "  Created wheel for fastrand: filename=fastrand-1.3.0-cp37-cp37m-linux_x86_64.whl size=16558 sha256=84d654d6d974d7a43274e3e9ada0ac04da7f8e78d1e10179c976523e73f044b3\n",
            "  Stored in directory: /root/.cache/pip/wheels/7d/73/56/57c2f1af2a5e2ecdb6234b732e898a4e26707cc2a2008dc308\n",
            "Successfully built fastrand\n",
            "Installing collected packages: fastrand\n",
            "Successfully installed fastrand-1.3.0\n"
          ],
          "name": "stdout"
        }
      ]
    },
    {
      "cell_type": "code",
      "metadata": {
        "id": "ueeERZmHH8KC"
      },
      "source": [
        "import fastrand"
      ],
      "execution_count": 2,
      "outputs": []
    },
    {
      "cell_type": "code",
      "metadata": {
        "id": "TcXk0t-SuA9d",
        "colab": {
          "base_uri": "https://localhost:8080/"
        },
        "outputId": "51b16e8e-14a7-47a9-9640-22f5163ae269"
      },
      "source": [
        "n_ge=int(input())\n",
        "n_start=int(input())\n",
        "past_w_gen=[[[]]]\n",
        "past_m_gen=[[[]]]\n",
        "next_w_gen=[[[]]]\n",
        "next_m_gen=[[[]]]\n",
        "paternal_rate=(input())"
      ],
      "execution_count": 4,
      "outputs": [
        {
          "output_type": "stream",
          "text": [
            "2\n",
            "10\n",
            "2\n"
          ],
          "name": "stdout"
        }
      ]
    },
    {
      "cell_type": "code",
      "metadata": {
        "colab": {
          "base_uri": "https://localhost:8080/"
        },
        "id": "BhRmnlA6IGuA",
        "outputId": "eb710e75-0fbc-41a2-dc58-bc8958c9e95f"
      },
      "source": [
        "!pip install tqdm\n",
        "from tqdm import tqdm"
      ],
      "execution_count": 3,
      "outputs": [
        {
          "output_type": "stream",
          "text": [
            "Requirement already satisfied: tqdm in /usr/local/lib/python3.7/dist-packages (4.62.0)\n"
          ],
          "name": "stdout"
        }
      ]
    },
    {
      "cell_type": "code",
      "metadata": {
        "id": "i0hKY_w0JZtj"
      },
      "source": [
        "import time\n",
        "import random"
      ],
      "execution_count": 8,
      "outputs": []
    },
    {
      "cell_type": "code",
      "metadata": {
        "id": "tRy04NzwKFRD"
      },
      "source": [
        "#mtDNA 초기 DATASET 만들기\n",
        "def starting():\n",
        "  global past_w_gen\n",
        "  for x in tqdm(range(n_start)):\n",
        "    tmp_dna_personal=[[]]\n",
        "    for y in range(1000):\n",
        "      tmp_dna=[]\n",
        "      for y in start_dna:\n",
        "        seeed=fastrand.pcg32bounded(76923077)\n",
        "        tmpc=y\n",
        "        if seeed==1:\n",
        "          tmpc=random.choice(['A','T','G','C'])\n",
        "        tmp_dna+=tmpc\n",
        "      tmp_dna_personal+=tmp_dna\n",
        "    past_w_gen+=tmp_dna_personal"
      ],
      "execution_count": 6,
      "outputs": []
    },
    {
      "cell_type": "code",
      "metadata": {
        "id": "1mkrCAn_kK3i"
      },
      "source": [
        "start_dna= [random.choice(['A','T','G','C']) for i in range(16569)]"
      ],
      "execution_count": 9,
      "outputs": []
    },
    {
      "cell_type": "code",
      "metadata": {
        "colab": {
          "base_uri": "https://localhost:8080/"
        },
        "id": "1ReRVapRAe-m",
        "outputId": "82fa52b2-79a3-4619-863f-199cbb7409b7"
      },
      "source": [
        "starting()"
      ],
      "execution_count": 10,
      "outputs": [
        {
          "output_type": "stream",
          "text": [
            "100%|██████████| 10/10 [00:49<00:00,  4.98s/it]\n"
          ],
          "name": "stderr"
        }
      ]
    },
    {
      "cell_type": "code",
      "metadata": {
        "id": "0CqEA2l2HD2O"
      },
      "source": [
        "#다음 세대로 넘어가기 \n",
        "def gen_change():\n",
        "  global past_w_gen\n",
        "  global past_m_gen\n",
        "  global new_w_gen\n",
        "  global new_m_gen\n",
        "\n",
        "  past_w_gen=next_w_gen\n",
        "  past_m_gen=next_m_gen\n",
        "  next_w_gen=[[[]]]\n",
        "  next_m_gen=[[[]]]"
      ],
      "execution_count": null,
      "outputs": []
    },
    {
      "cell_type": "code",
      "metadata": {
        "id": "-5bgoxzyNQTm"
      },
      "source": [
        "#모계유전만 고려\n",
        "def maternal():\n",
        "  global past_w_gen\n",
        "  global past_m_gen\n",
        "  global new_w_gen\n",
        "  global new_m_gen\n",
        "  for x in past_w_gen:\n",
        "    num_girl=random.choice([0,1,1,2])\n",
        "    num_boy=random.choice([0,1,1,2])\n",
        "    for i in range(num_girl):\n",
        "      next_w_gen+=x\n",
        "    for j in range(num_boy):\n",
        "      next_m_gen+=x"
      ],
      "execution_count": null,
      "outputs": []
    },
    {
      "cell_type": "code",
      "metadata": {
        "id": "lRoV8DZuWNKB"
      },
      "source": [
        "#mtDNA 다양성 수치화"
      ],
      "execution_count": null,
      "outputs": []
    },
    {
      "cell_type": "code",
      "metadata": {
        "id": "w6QzoLsuNQ6L"
      },
      "source": [
        "#DNA mutation 확률 만들기: 난수 생성후 일정 범위 안에 들어올 때만 돌연변이가 발생한다고 해서 풀기\n",
        "def mut(past_w_gen):\n",
        "\n",
        "      "
      ],
      "execution_count": null,
      "outputs": []
    },
    {
      "cell_type": "code",
      "metadata": {
        "id": "_bMlKtV2R3Tv"
      },
      "source": [
        "#남녀 매칭\n",
        "def match(past_w_gen,past_m_gen):\n",
        "  random.shuffle(past_m_gen)\n",
        "  random.shuffle(past_w_gen)"
      ],
      "execution_count": null,
      "outputs": []
    },
    {
      "cell_type": "code",
      "metadata": {
        "id": "y6vFmV_mQY2R"
      },
      "source": [
        "#부계 유전 고려--1:1000으로 해볼까\n",
        "def paternal(past_w_gen, past_m_gen):\n",
        "  global past_w_gen\n",
        "  global past_m_gen\n",
        "  global new_w_gen\n",
        "  global new_m_gen\n",
        "  for n in range(min(len(past_w_gen),len(past_m_gen))):\n",
        "    num_girl=random.choice([0,1,1,2])\n",
        "    num_boy=random.choice([0,1,1,2])\n",
        "    for i in range(num_girl):\n",
        "      tmp1=random.sample(past_w_gen[x],1000-paternal_rate)+random.sample(past_m_gen[x],parternal_rate)\n",
        "      next_w_gen+=tmp1\n",
        "    for j in range(num_boy):\n",
        "      tmp2=random.sample(past_w_gen[x],1000-paternal_rate)+random.sample(past_m_gen[x],parternal_rate)\n",
        "      next_m_gen+=tmp2\n",
        "     "
      ],
      "execution_count": null,
      "outputs": []
    },
    {
      "cell_type": "code",
      "metadata": {
        "id": "5xE4u5GmQ4B7"
      },
      "source": [
        "#미토콘드리아 별 복제 속도 차이\n",
        "def mtchoose():\n",
        "  "
      ],
      "execution_count": null,
      "outputs": []
    }
  ]
}