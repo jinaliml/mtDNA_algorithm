{
  "nbformat": 4,
  "nbformat_minor": 0,
  "metadata": {
    "colab": {
      "name": "창의재단 코드_try.1_20210824",
      "provenance": [],
      "authorship_tag": "ABX9TyOEgl0rTm+GwcPYe1QRqIRz",
      "include_colab_link": true
    },
    "kernelspec": {
      "name": "python3",
      "display_name": "Python 3"
    },
    "language_info": {
      "name": "python"
    }
  },
  "cells": [
    {
      "cell_type": "markdown",
      "metadata": {
        "id": "view-in-github",
        "colab_type": "text"
      },
      "source": [
        "<a href=\"https://colab.research.google.com/github/jinaliml/mtDNA_algorithm/blob/main/%EB%AF%B8%EC%99%84%EC%84%B1_20210824.ipynb\" target=\"_parent\"><img src=\"https://colab.research.google.com/assets/colab-badge.svg\" alt=\"Open In Colab\"/></a>"
      ]
    },
    {
      "cell_type": "code",
      "metadata": {
        "id": "BpU3rUrNDMBH"
      },
      "source": [
        "import random"
      ],
      "execution_count": null,
      "outputs": []
    },
    {
      "cell_type": "code",
      "metadata": {
        "id": "TcXk0t-SuA9d",
        "colab": {
          "base_uri": "https://localhost:8080/"
        },
        "outputId": "ea9fa133-e31b-45fe-f4f1-0ce8fb1d62e2"
      },
      "source": [
        "n_ge=int(input())\n",
        "n_start=int(input())\n",
        "p_w_gen=[[]]\n",
        "p_m_gen=[[]]\n",
        "n_w_gen=[[]]\n",
        "n_m_gen=[[]]"
      ],
      "execution_count": null,
      "outputs": [
        {
          "output_type": "stream",
          "text": [
            "3\n",
            "2\n"
          ],
          "name": "stdout"
        }
      ]
    },
    {
      "cell_type": "code",
      "metadata": {
        "id": "0CqEA2l2HD2O"
      },
      "source": [
        "def gen_change(p_w_gen, p_m_gen, n_w_gen, n_m_gen):\n",
        "  p_w_gen=n_w_gen\n",
        "  p_m_gen=n_m_gen\n",
        "  n_w_gen=[[]]\n",
        "  n_m_gen=[[]]"
      ],
      "execution_count": null,
      "outputs": []
    },
    {
      "cell_type": "code",
      "metadata": {
        "id": "-5bgoxzyNQTm"
      },
      "source": [
        "#모계유전만 고려\n",
        "def basic(p_w_gen):\n",
        "  for x in p_w_gen:\n",
        "    num_girl=random.randint(0,3)\n",
        "    num_boy=random.randint(0,3)\n",
        "    for i in range(num_girl):\n",
        "      n_w_gen+=x\n",
        "    for j in range(num_boy):\n",
        "      n_m_gen+=x"
      ],
      "execution_count": null,
      "outputs": []
    },
    {
      "cell_type": "code",
      "metadata": {
        "id": "w6QzoLsuNQ6L"
      },
      "source": [
        "#DNA mutation 확률 만들기: 난수 생성후 일정 범위 안에 들어올 때만 돌연변이가 발생한다고 해서 풀기\n",
        "def mut(p_w_gen):\n",
        "  for x in "
      ],
      "execution_count": null,
      "outputs": []
    },
    {
      "cell_type": "code",
      "metadata": {
        "id": "_bMlKtV2R3Tv"
      },
      "source": [
        "#남녀 매칭\n",
        "def match(p_w_gen,p_m_gen):\n",
        "  random.shuffle(p_m_gen)\n",
        "  random.shuffle(p_w_gen)"
      ],
      "execution_count": null,
      "outputs": []
    },
    {
      "cell_type": "code",
      "metadata": {
        "id": "y6vFmV_mQY2R"
      },
      "source": [
        "#부계 유전 고려--1:1000으로 해볼까\n",
        "def paternal():\n",
        "  p_m_gen[]\n"
      ],
      "execution_count": null,
      "outputs": []
    },
    {
      "cell_type": "code",
      "metadata": {
        "id": "5xE4u5GmQ4B7"
      },
      "source": [
        "#미토콘드리아 별 복제 속도 차이\n",
        "def mtchoose:\n",
        "  "
      ],
      "execution_count": null,
      "outputs": []
    },
    {
      "cell_type": "code",
      "metadata": {
        "id": "VhBIlAMaugOv"
      },
      "source": [
        "for y in range(n_start):\n",
        "  tmp=[random.randint(1,4) for k in range(16568)]\n",
        "  p_w_gen+=tmp\n",
        "for y in range(n_start):\n",
        "  tmp=[random.randint(1,4) for k in range(16568)]\n",
        "  p_m_gen+=tmp\n",
        "  "
      ],
      "execution_count": null,
      "outputs": []
    }
  ]
}